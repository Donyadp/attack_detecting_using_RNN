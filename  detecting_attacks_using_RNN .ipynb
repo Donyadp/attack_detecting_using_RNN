{
 "cells": [
  {
   "cell_type": "code",
   "execution_count": 13,
   "id": "245dce72-c348-4622-8986-9b412e576976",
   "metadata": {},
   "outputs": [
    {
     "name": "stderr",
     "output_type": "stream",
     "text": [
      "C:\\Users\\admin2\\AppData\\Local\\Packages\\PythonSoftwareFoundation.Python.3.12_qbz5n2kfra8p0\\LocalCache\\local-packages\\Python312\\site-packages\\keras\\src\\layers\\rnn\\rnn.py:204: UserWarning: Do not pass an `input_shape`/`input_dim` argument to a layer. When using Sequential models, prefer using an `Input(shape)` object as the first layer in the model instead.\n",
      "  super().__init__(**kwargs)\n"
     ]
    },
    {
     "name": "stdout",
     "output_type": "stream",
     "text": [
      "Epoch 1/10\n",
      "\u001b[1m2257/2257\u001b[0m \u001b[32m━━━━━━━━━━━━━━━━━━━━\u001b[0m\u001b[37m\u001b[0m \u001b[1m562s\u001b[0m 246ms/step - accuracy: 0.9677 - loss: 0.0950 - val_accuracy: 0.9973 - val_loss: 0.0129\n",
      "Epoch 2/10\n",
      "\u001b[1m2257/2257\u001b[0m \u001b[32m━━━━━━━━━━━━━━━━━━━━\u001b[0m\u001b[37m\u001b[0m \u001b[1m510s\u001b[0m 226ms/step - accuracy: 0.9965 - loss: 0.0135 - val_accuracy: 0.9987 - val_loss: 0.0044\n",
      "Epoch 3/10\n",
      "\u001b[1m2257/2257\u001b[0m \u001b[32m━━━━━━━━━━━━━━━━━━━━\u001b[0m\u001b[37m\u001b[0m \u001b[1m794s\u001b[0m 352ms/step - accuracy: 0.9887 - loss: 0.0365 - val_accuracy: 0.7462 - val_loss: 0.4446\n",
      "Epoch 4/10\n",
      "\u001b[1m2257/2257\u001b[0m \u001b[32m━━━━━━━━━━━━━━━━━━━━\u001b[0m\u001b[37m\u001b[0m \u001b[1m528s\u001b[0m 234ms/step - accuracy: 0.9603 - loss: 0.1042 - val_accuracy: 0.9983 - val_loss: 0.0059\n",
      "Epoch 5/10\n",
      "\u001b[1m2257/2257\u001b[0m \u001b[32m━━━━━━━━━━━━━━━━━━━━\u001b[0m\u001b[37m\u001b[0m \u001b[1m618s\u001b[0m 274ms/step - accuracy: 0.9983 - loss: 0.0066 - val_accuracy: 0.9987 - val_loss: 0.0047\n",
      "Epoch 6/10\n",
      "\u001b[1m2257/2257\u001b[0m \u001b[32m━━━━━━━━━━━━━━━━━━━━\u001b[0m\u001b[37m\u001b[0m \u001b[1m354s\u001b[0m 157ms/step - accuracy: 0.9976 - loss: 0.0096 - val_accuracy: 0.9980 - val_loss: 0.0072\n",
      "Epoch 7/10\n",
      "\u001b[1m2257/2257\u001b[0m \u001b[32m━━━━━━━━━━━━━━━━━━━━\u001b[0m\u001b[37m\u001b[0m \u001b[1m294s\u001b[0m 130ms/step - accuracy: 0.9962 - loss: 0.0147 - val_accuracy: 0.9988 - val_loss: 0.0045\n",
      "Epoch 8/10\n",
      "\u001b[1m2257/2257\u001b[0m \u001b[32m━━━━━━━━━━━━━━━━━━━━\u001b[0m\u001b[37m\u001b[0m \u001b[1m364s\u001b[0m 161ms/step - accuracy: 0.9974 - loss: 0.0119 - val_accuracy: 0.9988 - val_loss: 0.0098\n",
      "Epoch 9/10\n",
      "\u001b[1m2257/2257\u001b[0m \u001b[32m━━━━━━━━━━━━━━━━━━━━\u001b[0m\u001b[37m\u001b[0m \u001b[1m309s\u001b[0m 137ms/step - accuracy: 0.9873 - loss: 0.0429 - val_accuracy: 0.9985 - val_loss: 0.0086\n",
      "Epoch 10/10\n",
      "\u001b[1m2257/2257\u001b[0m \u001b[32m━━━━━━━━━━━━━━━━━━━━\u001b[0m\u001b[37m\u001b[0m \u001b[1m295s\u001b[0m 131ms/step - accuracy: 0.9956 - loss: 0.0202 - val_accuracy: 0.9979 - val_loss: 0.0066\n",
      "\u001b[1m1411/1411\u001b[0m \u001b[32m━━━━━━━━━━━━━━━━━━━━\u001b[0m\u001b[37m\u001b[0m \u001b[1m46s\u001b[0m 32ms/step\n",
      "Accuracy: 0.9975403842318686\n",
      "Recall: 0.9981333125923622\n",
      "F1 Score: 0.9978422720292363\n",
      "AUC-ROC: 0.997444199432931\n"
     ]
    }
   ],
   "source": [
    "import pandas as pd\n",
    "import numpy as np\n",
    "from sklearn.model_selection import train_test_split\n",
    "from sklearn.preprocessing import StandardScaler\n",
    "from sklearn.metrics import accuracy_score, recall_score, f1_score, roc_auc_score\n",
    "from tensorflow.keras.models import Sequential\n",
    "from tensorflow.keras.layers import LSTM, Dense\n",
    "from tensorflow.keras.optimizers import Adam\n",
    "\n",
    "def load_and_preprocess_data(file_path):\n",
    "    data = pd.read_csv(file_path)\n",
    "\n",
    "    data[' Label'] = data[' Label'].map({'BENIGN': 0, 'DDoS': 1}).fillna(-1).astype(int)\n",
    "    features = data[[' Flow Duration', ' Destination Port', 'Total Length of Fwd Packets',\n",
    " ' Total Length of Bwd Packets', 'Fwd PSH Flags', ' Bwd PSH Flags']]\n",
    "        \n",
    "\n",
    "    label = data[' Label']\n",
    "\n",
    "    scaler = StandardScaler()\n",
    "    features_scaled = scaler.fit_transform(features)\n",
    "\n",
    "    time_steps = 100  \n",
    "    samples = []\n",
    "    labels = []\n",
    "\n",
    "    for i in range(len(features_scaled) - time_steps):\n",
    "        samples.append(features_scaled[i:i+time_steps])\n",
    "        labels.append(label[i+time_steps])\n",
    "\n",
    "    X = np.array(samples)\n",
    "    y = np.array(labels)\n",
    "\n",
    "    return X, y\n",
    "\n",
    "file_path = 'Friday-WorkingHours-Afternoon-DDos.pcap_ISCX.csv'\n",
    "X, y = load_and_preprocess_data(file_path)\n",
    "X_train, X_test, y_train, y_test = train_test_split(X, y, test_size=0.2, random_state=42)\n",
    "\n",
    "model = Sequential()\n",
    "model.add(LSTM(64, input_shape=(X_train.shape[1], X_train.shape[2]), return_sequences=True))\n",
    "model.add(LSTM(32))\n",
    "model.add(Dense(1, activation='sigmoid')) \n",
    "\n",
    "model.compile(optimizer=Adam(learning_rate=0.001), loss='binary_crossentropy', metrics=['accuracy'])\n",
    "\n",
    "history = model.fit(X_train, y_train, epochs=10, batch_size=64, validation_split=0.2)\n",
    "\n",
    "y_pred = (model.predict(X_test) > 0.5).astype(\"int32\")\n",
    "\n",
    "accuracy = accuracy_score(y_test, y_pred)\n",
    "recall = recall_score(y_test, y_pred)\n",
    "f1 = f1_score(y_test, y_pred)\n",
    "roc_auc = roc_auc_score(y_test, y_pred)\n",
    "\n",
    "print(f'Accuracy: {accuracy}')\n",
    "print(f'Recall: {recall}')\n",
    "print(f'F1 Score: {f1}')\n",
    "print(f'AUC-ROC: {roc_auc}')\n"
   ]
  },
  {
   "cell_type": "code",
   "execution_count": null,
   "id": "321a55ec-58b5-405c-9cd8-a163fd3452e8",
   "metadata": {},
   "outputs": [],
   "source": []
  }
 ],
 "metadata": {
  "kernelspec": {
   "display_name": "Python 3 (ipykernel)",
   "language": "python",
   "name": "python3"
  },
  "language_info": {
   "codemirror_mode": {
    "name": "ipython",
    "version": 3
   },
   "file_extension": ".py",
   "mimetype": "text/x-python",
   "name": "python",
   "nbconvert_exporter": "python",
   "pygments_lexer": "ipython3",
   "version": "3.12.7"
  }
 },
 "nbformat": 4,
 "nbformat_minor": 5
}
